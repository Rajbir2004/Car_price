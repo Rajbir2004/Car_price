{
  "nbformat": 4,
  "nbformat_minor": 0,
  "metadata": {
    "colab": {
      "provenance": []
    },
    "kernelspec": {
      "name": "python3",
      "display_name": "Python 3"
    },
    "language_info": {
      "name": "python"
    }
  },
  "cells": [
    {
      "cell_type": "code",
      "execution_count": 3,
      "metadata": {
        "colab": {
          "base_uri": "https://localhost:8080/"
        },
        "id": "hmLH5z8mdnrS",
        "outputId": "af164b45-db95-4fcd-fa01-5648e0762170"
      },
      "outputs": [
        {
          "output_type": "stream",
          "name": "stderr",
          "text": [
            "<ipython-input-3-5f95e6e2417d>:17: SettingWithCopyWarning: \n",
            "A value is trying to be set on a copy of a slice from a DataFrame.\n",
            "Try using .loc[row_indexer,col_indexer] = value instead\n",
            "\n",
            "See the caveats in the documentation: https://pandas.pydata.org/pandas-docs/stable/user_guide/indexing.html#returning-a-view-versus-a-copy\n",
            "  final_dataset['Current Year'] = 2020\n",
            "<ipython-input-3-5f95e6e2417d>:18: SettingWithCopyWarning: \n",
            "A value is trying to be set on a copy of a slice from a DataFrame.\n",
            "Try using .loc[row_indexer,col_indexer] = value instead\n",
            "\n",
            "See the caveats in the documentation: https://pandas.pydata.org/pandas-docs/stable/user_guide/indexing.html#returning-a-view-versus-a-copy\n",
            "  final_dataset['no_year'] = final_dataset['Current Year'] - final_dataset['Year']\n",
            "<ipython-input-3-5f95e6e2417d>:20: SettingWithCopyWarning: \n",
            "A value is trying to be set on a copy of a slice from a DataFrame\n",
            "\n",
            "See the caveats in the documentation: https://pandas.pydata.org/pandas-docs/stable/user_guide/indexing.html#returning-a-view-versus-a-copy\n",
            "  final_dataset.drop(['Year'], axis=1, inplace=True)\n"
          ]
        },
        {
          "output_type": "stream",
          "name": "stdout",
          "text": [
            "Mean Squared Error (MSE) on Test Set: 0.952066609836065\n",
            "Model retrained and saved successfully!\n"
          ]
        }
      ],
      "source": [
        "# Importing Libraries\n",
        "import numpy as np\n",
        "import pandas as pd\n",
        "import pickle\n",
        "from sklearn.ensemble import RandomForestRegressor\n",
        "from sklearn.model_selection import train_test_split\n",
        "from sklearn.metrics import mean_squared_error\n",
        "\n",
        "# Load dataset\n",
        "df = pd.read_csv('/content/car data.csv')\n",
        "\n",
        "# Preprocessing\n",
        "df['Kms_Driven2'] = np.log(df['Kms_Driven'])\n",
        "df['Car_Age'] = 2020 - df['Year']\n",
        "\n",
        "final_dataset = df[['Year', 'Selling_Price', 'Present_Price', 'Kms_Driven', 'Fuel_Type', 'Seller_Type', 'Transmission', 'Owner']]\n",
        "final_dataset['Current Year'] = 2020\n",
        "final_dataset['no_year'] = final_dataset['Current Year'] - final_dataset['Year']\n",
        "\n",
        "final_dataset.drop(['Year'], axis=1, inplace=True)\n",
        "final_dataset = pd.get_dummies(final_dataset, drop_first=True)\n",
        "final_dataset = final_dataset.drop(['Current Year'], axis=1)\n",
        "\n",
        "# Features and Target\n",
        "X = final_dataset.iloc[:,1:]\n",
        "y = final_dataset.iloc[:,0]\n",
        "\n",
        "# Split the dataset\n",
        "X_train, X_test, y_train, y_test = train_test_split(X, y, test_size=0.2, random_state=0)\n",
        "\n",
        "# Train the model\n",
        "model = RandomForestRegressor()\n",
        "model.fit(X_train, y_train)\n",
        "\n",
        "# Predictions\n",
        "y_pred = model.predict(X_test)\n",
        "\n",
        "# Calculate Mean Squared Error\n",
        "mse = mean_squared_error(y_test, y_pred)\n",
        "print(f\"Mean Squared Error (MSE) on Test Set: {mse}\")\n",
        "\n",
        "# Save the model\n",
        "with open('random_forest_regression_model.pkl', 'wb') as f:\n",
        "    pickle.dump(model, f)\n",
        "\n",
        "print(\"Model retrained and saved successfully!\")\n"
      ]
    }
  ]
}